{
 "cells": [
  {
   "cell_type": "markdown",
   "id": "9735df1d-a0b4-4049-95cc-82df582a34ee",
   "metadata": {},
   "source": [
    "## Predicting Price using given features"
   ]
  },
  {
   "cell_type": "code",
   "execution_count": 3,
   "id": "3ea7fc9c-8fd3-4985-baf5-7df5950b7f26",
   "metadata": {},
   "outputs": [],
   "source": [
    "from joblib import dump, load\n",
    "import numpy as np\n",
    "model= load(\"RealEstatePrediction.joblib\")"
   ]
  },
  {
   "cell_type": "code",
   "execution_count": 6,
   "id": "898afa53-7442-42d2-8ef1-3128c7c780fd",
   "metadata": {},
   "outputs": [
    {
     "data": {
      "text/plain": [
       "array([22.258])"
      ]
     },
     "execution_count": 6,
     "metadata": {},
     "output_type": "execute_result"
    }
   ],
   "source": [
    "input= np.array([[-0.43942006,  3.12628155, -1.12165014, -0.27288841, -1.42262747,\n",
    "       -0.24119861, -1.31238772,  2.61111401, -1.0016859 , -0.5778192 ,\n",
    "       -0.97491834,  0.41164221, -0.86091034]])\n",
    "model.predict(input)"
   ]
  }
 ],
 "metadata": {
  "kernelspec": {
   "display_name": "Python 3 (ipykernel)",
   "language": "python",
   "name": "python3"
  },
  "language_info": {
   "codemirror_mode": {
    "name": "ipython",
    "version": 3
   },
   "file_extension": ".py",
   "mimetype": "text/x-python",
   "name": "python",
   "nbconvert_exporter": "python",
   "pygments_lexer": "ipython3",
   "version": "3.9.8"
  }
 },
 "nbformat": 4,
 "nbformat_minor": 5
}
